{
  "nbformat": 4,
  "nbformat_minor": 0,
  "metadata": {
    "colab": {
      "provenance": []
    },
    "kernelspec": {
      "name": "python3",
      "display_name": "Python 3"
    },
    "language_info": {
      "name": "python"
    }
  },
  "cells": [
    {
      "cell_type": "code",
      "execution_count": 3,
      "metadata": {
        "colab": {
          "base_uri": "https://localhost:8080/",
          "height": 472
        },
        "id": "wixv4J9YsgcH",
        "outputId": "df7de7df-0f83-4d79-fd4e-9940df297bcc"
      },
      "outputs": [
        {
          "output_type": "stream",
          "name": "stdout",
          "text": [
            "Shape of data (1821, 5)\n"
          ]
        },
        {
          "output_type": "execute_result",
          "data": {
            "text/plain": [
              "            MinTemp  MaxTemp  AvgTemp  Sunrise  Sunset\n",
              "DATE                                                  \n",
              "2014-01-01     33.0     46.0     40.0      657    1756\n",
              "2014-01-02     35.0     50.0     43.0      657    1756\n",
              "2014-01-03     36.0     45.0     41.0      657    1757\n",
              "2014-01-04     32.0     41.0     37.0      658    1757\n",
              "2014-01-05     24.0     38.0     31.0      658    1758\n",
              "...             ...      ...      ...      ...     ...\n",
              "2018-12-26     35.0     45.0     40.0      654    1752\n",
              "2018-12-27     33.0     44.0     39.0      655    1752\n",
              "2018-12-28     33.0     47.0     40.0      655    1753\n",
              "2018-12-29     36.0     47.0     42.0      655    1753\n",
              "2018-12-30     39.0     52.0     46.0      656    1754\n",
              "\n",
              "[1821 rows x 5 columns]"
            ],
            "text/html": [
              "\n",
              "  <div id=\"df-a65627f1-d5b9-44d1-93aa-326becba1e63\" class=\"colab-df-container\">\n",
              "    <div>\n",
              "<style scoped>\n",
              "    .dataframe tbody tr th:only-of-type {\n",
              "        vertical-align: middle;\n",
              "    }\n",
              "\n",
              "    .dataframe tbody tr th {\n",
              "        vertical-align: top;\n",
              "    }\n",
              "\n",
              "    .dataframe thead th {\n",
              "        text-align: right;\n",
              "    }\n",
              "</style>\n",
              "<table border=\"1\" class=\"dataframe\">\n",
              "  <thead>\n",
              "    <tr style=\"text-align: right;\">\n",
              "      <th></th>\n",
              "      <th>MinTemp</th>\n",
              "      <th>MaxTemp</th>\n",
              "      <th>AvgTemp</th>\n",
              "      <th>Sunrise</th>\n",
              "      <th>Sunset</th>\n",
              "    </tr>\n",
              "    <tr>\n",
              "      <th>DATE</th>\n",
              "      <th></th>\n",
              "      <th></th>\n",
              "      <th></th>\n",
              "      <th></th>\n",
              "      <th></th>\n",
              "    </tr>\n",
              "  </thead>\n",
              "  <tbody>\n",
              "    <tr>\n",
              "      <th>2014-01-01</th>\n",
              "      <td>33.0</td>\n",
              "      <td>46.0</td>\n",
              "      <td>40.0</td>\n",
              "      <td>657</td>\n",
              "      <td>1756</td>\n",
              "    </tr>\n",
              "    <tr>\n",
              "      <th>2014-01-02</th>\n",
              "      <td>35.0</td>\n",
              "      <td>50.0</td>\n",
              "      <td>43.0</td>\n",
              "      <td>657</td>\n",
              "      <td>1756</td>\n",
              "    </tr>\n",
              "    <tr>\n",
              "      <th>2014-01-03</th>\n",
              "      <td>36.0</td>\n",
              "      <td>45.0</td>\n",
              "      <td>41.0</td>\n",
              "      <td>657</td>\n",
              "      <td>1757</td>\n",
              "    </tr>\n",
              "    <tr>\n",
              "      <th>2014-01-04</th>\n",
              "      <td>32.0</td>\n",
              "      <td>41.0</td>\n",
              "      <td>37.0</td>\n",
              "      <td>658</td>\n",
              "      <td>1757</td>\n",
              "    </tr>\n",
              "    <tr>\n",
              "      <th>2014-01-05</th>\n",
              "      <td>24.0</td>\n",
              "      <td>38.0</td>\n",
              "      <td>31.0</td>\n",
              "      <td>658</td>\n",
              "      <td>1758</td>\n",
              "    </tr>\n",
              "    <tr>\n",
              "      <th>...</th>\n",
              "      <td>...</td>\n",
              "      <td>...</td>\n",
              "      <td>...</td>\n",
              "      <td>...</td>\n",
              "      <td>...</td>\n",
              "    </tr>\n",
              "    <tr>\n",
              "      <th>2018-12-26</th>\n",
              "      <td>35.0</td>\n",
              "      <td>45.0</td>\n",
              "      <td>40.0</td>\n",
              "      <td>654</td>\n",
              "      <td>1752</td>\n",
              "    </tr>\n",
              "    <tr>\n",
              "      <th>2018-12-27</th>\n",
              "      <td>33.0</td>\n",
              "      <td>44.0</td>\n",
              "      <td>39.0</td>\n",
              "      <td>655</td>\n",
              "      <td>1752</td>\n",
              "    </tr>\n",
              "    <tr>\n",
              "      <th>2018-12-28</th>\n",
              "      <td>33.0</td>\n",
              "      <td>47.0</td>\n",
              "      <td>40.0</td>\n",
              "      <td>655</td>\n",
              "      <td>1753</td>\n",
              "    </tr>\n",
              "    <tr>\n",
              "      <th>2018-12-29</th>\n",
              "      <td>36.0</td>\n",
              "      <td>47.0</td>\n",
              "      <td>42.0</td>\n",
              "      <td>655</td>\n",
              "      <td>1753</td>\n",
              "    </tr>\n",
              "    <tr>\n",
              "      <th>2018-12-30</th>\n",
              "      <td>39.0</td>\n",
              "      <td>52.0</td>\n",
              "      <td>46.0</td>\n",
              "      <td>656</td>\n",
              "      <td>1754</td>\n",
              "    </tr>\n",
              "  </tbody>\n",
              "</table>\n",
              "<p>1821 rows × 5 columns</p>\n",
              "</div>\n",
              "    <div class=\"colab-df-buttons\">\n",
              "\n",
              "  <div class=\"colab-df-container\">\n",
              "    <button class=\"colab-df-convert\" onclick=\"convertToInteractive('df-a65627f1-d5b9-44d1-93aa-326becba1e63')\"\n",
              "            title=\"Convert this dataframe to an interactive table.\"\n",
              "            style=\"display:none;\">\n",
              "\n",
              "  <svg xmlns=\"http://www.w3.org/2000/svg\" height=\"24px\" viewBox=\"0 -960 960 960\">\n",
              "    <path d=\"M120-120v-720h720v720H120Zm60-500h600v-160H180v160Zm220 220h160v-160H400v160Zm0 220h160v-160H400v160ZM180-400h160v-160H180v160Zm440 0h160v-160H620v160ZM180-180h160v-160H180v160Zm440 0h160v-160H620v160Z\"/>\n",
              "  </svg>\n",
              "    </button>\n",
              "\n",
              "  <style>\n",
              "    .colab-df-container {\n",
              "      display:flex;\n",
              "      gap: 12px;\n",
              "    }\n",
              "\n",
              "    .colab-df-convert {\n",
              "      background-color: #E8F0FE;\n",
              "      border: none;\n",
              "      border-radius: 50%;\n",
              "      cursor: pointer;\n",
              "      display: none;\n",
              "      fill: #1967D2;\n",
              "      height: 32px;\n",
              "      padding: 0 0 0 0;\n",
              "      width: 32px;\n",
              "    }\n",
              "\n",
              "    .colab-df-convert:hover {\n",
              "      background-color: #E2EBFA;\n",
              "      box-shadow: 0px 1px 2px rgba(60, 64, 67, 0.3), 0px 1px 3px 1px rgba(60, 64, 67, 0.15);\n",
              "      fill: #174EA6;\n",
              "    }\n",
              "\n",
              "    .colab-df-buttons div {\n",
              "      margin-bottom: 4px;\n",
              "    }\n",
              "\n",
              "    [theme=dark] .colab-df-convert {\n",
              "      background-color: #3B4455;\n",
              "      fill: #D2E3FC;\n",
              "    }\n",
              "\n",
              "    [theme=dark] .colab-df-convert:hover {\n",
              "      background-color: #434B5C;\n",
              "      box-shadow: 0px 1px 3px 1px rgba(0, 0, 0, 0.15);\n",
              "      filter: drop-shadow(0px 1px 2px rgba(0, 0, 0, 0.3));\n",
              "      fill: #FFFFFF;\n",
              "    }\n",
              "  </style>\n",
              "\n",
              "    <script>\n",
              "      const buttonEl =\n",
              "        document.querySelector('#df-a65627f1-d5b9-44d1-93aa-326becba1e63 button.colab-df-convert');\n",
              "      buttonEl.style.display =\n",
              "        google.colab.kernel.accessAllowed ? 'block' : 'none';\n",
              "\n",
              "      async function convertToInteractive(key) {\n",
              "        const element = document.querySelector('#df-a65627f1-d5b9-44d1-93aa-326becba1e63');\n",
              "        const dataTable =\n",
              "          await google.colab.kernel.invokeFunction('convertToInteractive',\n",
              "                                                    [key], {});\n",
              "        if (!dataTable) return;\n",
              "\n",
              "        const docLinkHtml = 'Like what you see? Visit the ' +\n",
              "          '<a target=\"_blank\" href=https://colab.research.google.com/notebooks/data_table.ipynb>data table notebook</a>'\n",
              "          + ' to learn more about interactive tables.';\n",
              "        element.innerHTML = '';\n",
              "        dataTable['output_type'] = 'display_data';\n",
              "        await google.colab.output.renderOutput(dataTable, element);\n",
              "        const docLink = document.createElement('div');\n",
              "        docLink.innerHTML = docLinkHtml;\n",
              "        element.appendChild(docLink);\n",
              "      }\n",
              "    </script>\n",
              "  </div>\n",
              "\n",
              "\n",
              "<div id=\"df-a69e557d-eac6-4d60-94af-04e31e836d28\">\n",
              "  <button class=\"colab-df-quickchart\" onclick=\"quickchart('df-a69e557d-eac6-4d60-94af-04e31e836d28')\"\n",
              "            title=\"Suggest charts\"\n",
              "            style=\"display:none;\">\n",
              "\n",
              "<svg xmlns=\"http://www.w3.org/2000/svg\" height=\"24px\"viewBox=\"0 0 24 24\"\n",
              "     width=\"24px\">\n",
              "    <g>\n",
              "        <path d=\"M19 3H5c-1.1 0-2 .9-2 2v14c0 1.1.9 2 2 2h14c1.1 0 2-.9 2-2V5c0-1.1-.9-2-2-2zM9 17H7v-7h2v7zm4 0h-2V7h2v10zm4 0h-2v-4h2v4z\"/>\n",
              "    </g>\n",
              "</svg>\n",
              "  </button>\n",
              "\n",
              "<style>\n",
              "  .colab-df-quickchart {\n",
              "      --bg-color: #E8F0FE;\n",
              "      --fill-color: #1967D2;\n",
              "      --hover-bg-color: #E2EBFA;\n",
              "      --hover-fill-color: #174EA6;\n",
              "      --disabled-fill-color: #AAA;\n",
              "      --disabled-bg-color: #DDD;\n",
              "  }\n",
              "\n",
              "  [theme=dark] .colab-df-quickchart {\n",
              "      --bg-color: #3B4455;\n",
              "      --fill-color: #D2E3FC;\n",
              "      --hover-bg-color: #434B5C;\n",
              "      --hover-fill-color: #FFFFFF;\n",
              "      --disabled-bg-color: #3B4455;\n",
              "      --disabled-fill-color: #666;\n",
              "  }\n",
              "\n",
              "  .colab-df-quickchart {\n",
              "    background-color: var(--bg-color);\n",
              "    border: none;\n",
              "    border-radius: 50%;\n",
              "    cursor: pointer;\n",
              "    display: none;\n",
              "    fill: var(--fill-color);\n",
              "    height: 32px;\n",
              "    padding: 0;\n",
              "    width: 32px;\n",
              "  }\n",
              "\n",
              "  .colab-df-quickchart:hover {\n",
              "    background-color: var(--hover-bg-color);\n",
              "    box-shadow: 0 1px 2px rgba(60, 64, 67, 0.3), 0 1px 3px 1px rgba(60, 64, 67, 0.15);\n",
              "    fill: var(--button-hover-fill-color);\n",
              "  }\n",
              "\n",
              "  .colab-df-quickchart-complete:disabled,\n",
              "  .colab-df-quickchart-complete:disabled:hover {\n",
              "    background-color: var(--disabled-bg-color);\n",
              "    fill: var(--disabled-fill-color);\n",
              "    box-shadow: none;\n",
              "  }\n",
              "\n",
              "  .colab-df-spinner {\n",
              "    border: 2px solid var(--fill-color);\n",
              "    border-color: transparent;\n",
              "    border-bottom-color: var(--fill-color);\n",
              "    animation:\n",
              "      spin 1s steps(1) infinite;\n",
              "  }\n",
              "\n",
              "  @keyframes spin {\n",
              "    0% {\n",
              "      border-color: transparent;\n",
              "      border-bottom-color: var(--fill-color);\n",
              "      border-left-color: var(--fill-color);\n",
              "    }\n",
              "    20% {\n",
              "      border-color: transparent;\n",
              "      border-left-color: var(--fill-color);\n",
              "      border-top-color: var(--fill-color);\n",
              "    }\n",
              "    30% {\n",
              "      border-color: transparent;\n",
              "      border-left-color: var(--fill-color);\n",
              "      border-top-color: var(--fill-color);\n",
              "      border-right-color: var(--fill-color);\n",
              "    }\n",
              "    40% {\n",
              "      border-color: transparent;\n",
              "      border-right-color: var(--fill-color);\n",
              "      border-top-color: var(--fill-color);\n",
              "    }\n",
              "    60% {\n",
              "      border-color: transparent;\n",
              "      border-right-color: var(--fill-color);\n",
              "    }\n",
              "    80% {\n",
              "      border-color: transparent;\n",
              "      border-right-color: var(--fill-color);\n",
              "      border-bottom-color: var(--fill-color);\n",
              "    }\n",
              "    90% {\n",
              "      border-color: transparent;\n",
              "      border-bottom-color: var(--fill-color);\n",
              "    }\n",
              "  }\n",
              "</style>\n",
              "\n",
              "  <script>\n",
              "    async function quickchart(key) {\n",
              "      const quickchartButtonEl =\n",
              "        document.querySelector('#' + key + ' button');\n",
              "      quickchartButtonEl.disabled = true;  // To prevent multiple clicks.\n",
              "      quickchartButtonEl.classList.add('colab-df-spinner');\n",
              "      try {\n",
              "        const charts = await google.colab.kernel.invokeFunction(\n",
              "            'suggestCharts', [key], {});\n",
              "      } catch (error) {\n",
              "        console.error('Error during call to suggestCharts:', error);\n",
              "      }\n",
              "      quickchartButtonEl.classList.remove('colab-df-spinner');\n",
              "      quickchartButtonEl.classList.add('colab-df-quickchart-complete');\n",
              "    }\n",
              "    (() => {\n",
              "      let quickchartButtonEl =\n",
              "        document.querySelector('#df-a69e557d-eac6-4d60-94af-04e31e836d28 button');\n",
              "      quickchartButtonEl.style.display =\n",
              "        google.colab.kernel.accessAllowed ? 'block' : 'none';\n",
              "    })();\n",
              "  </script>\n",
              "</div>\n",
              "\n",
              "  <div id=\"id_8eb5d3c5-b418-48b8-85b8-9b07a152c5ec\">\n",
              "    <style>\n",
              "      .colab-df-generate {\n",
              "        background-color: #E8F0FE;\n",
              "        border: none;\n",
              "        border-radius: 50%;\n",
              "        cursor: pointer;\n",
              "        display: none;\n",
              "        fill: #1967D2;\n",
              "        height: 32px;\n",
              "        padding: 0 0 0 0;\n",
              "        width: 32px;\n",
              "      }\n",
              "\n",
              "      .colab-df-generate:hover {\n",
              "        background-color: #E2EBFA;\n",
              "        box-shadow: 0px 1px 2px rgba(60, 64, 67, 0.3), 0px 1px 3px 1px rgba(60, 64, 67, 0.15);\n",
              "        fill: #174EA6;\n",
              "      }\n",
              "\n",
              "      [theme=dark] .colab-df-generate {\n",
              "        background-color: #3B4455;\n",
              "        fill: #D2E3FC;\n",
              "      }\n",
              "\n",
              "      [theme=dark] .colab-df-generate:hover {\n",
              "        background-color: #434B5C;\n",
              "        box-shadow: 0px 1px 3px 1px rgba(0, 0, 0, 0.15);\n",
              "        filter: drop-shadow(0px 1px 2px rgba(0, 0, 0, 0.3));\n",
              "        fill: #FFFFFF;\n",
              "      }\n",
              "    </style>\n",
              "    <button class=\"colab-df-generate\" onclick=\"generateWithVariable('df')\"\n",
              "            title=\"Generate code using this dataframe.\"\n",
              "            style=\"display:none;\">\n",
              "\n",
              "  <svg xmlns=\"http://www.w3.org/2000/svg\" height=\"24px\"viewBox=\"0 0 24 24\"\n",
              "       width=\"24px\">\n",
              "    <path d=\"M7,19H8.4L18.45,9,17,7.55,7,17.6ZM5,21V16.75L18.45,3.32a2,2,0,0,1,2.83,0l1.4,1.43a1.91,1.91,0,0,1,.58,1.4,1.91,1.91,0,0,1-.58,1.4L9.25,21ZM18.45,9,17,7.55Zm-12,3A5.31,5.31,0,0,0,4.9,8.1,5.31,5.31,0,0,0,1,6.5,5.31,5.31,0,0,0,4.9,4.9,5.31,5.31,0,0,0,6.5,1,5.31,5.31,0,0,0,8.1,4.9,5.31,5.31,0,0,0,12,6.5,5.46,5.46,0,0,0,6.5,12Z\"/>\n",
              "  </svg>\n",
              "    </button>\n",
              "    <script>\n",
              "      (() => {\n",
              "      const buttonEl =\n",
              "        document.querySelector('#id_8eb5d3c5-b418-48b8-85b8-9b07a152c5ec button.colab-df-generate');\n",
              "      buttonEl.style.display =\n",
              "        google.colab.kernel.accessAllowed ? 'block' : 'none';\n",
              "\n",
              "      buttonEl.onclick = () => {\n",
              "        google.colab.notebook.generateWithVariable('df');\n",
              "      }\n",
              "      })();\n",
              "    </script>\n",
              "  </div>\n",
              "\n",
              "    </div>\n",
              "  </div>\n"
            ],
            "application/vnd.google.colaboratory.intrinsic+json": {
              "type": "dataframe",
              "variable_name": "df",
              "summary": "{\n  \"name\": \"df\",\n  \"rows\": 1821,\n  \"fields\": [\n    {\n      \"column\": \"DATE\",\n      \"properties\": {\n        \"dtype\": \"date\",\n        \"min\": \"2014-01-01 00:00:00\",\n        \"max\": \"2018-12-30 00:00:00\",\n        \"num_unique_values\": 1821,\n        \"samples\": [\n          \"2018-02-23 00:00:00\",\n          \"2018-12-09 00:00:00\",\n          \"2014-05-16 00:00:00\"\n        ],\n        \"semantic_type\": \"\",\n        \"description\": \"\"\n      }\n    },\n    {\n      \"column\": \"MinTemp\",\n      \"properties\": {\n        \"dtype\": \"number\",\n        \"std\": 3.7982836890900367,\n        \"min\": 22.0,\n        \"max\": 49.0,\n        \"num_unique_values\": 26,\n        \"samples\": [\n          29.0,\n          34.0,\n          33.0\n        ],\n        \"semantic_type\": \"\",\n        \"description\": \"\"\n      }\n    },\n    {\n      \"column\": \"MaxTemp\",\n      \"properties\": {\n        \"dtype\": \"number\",\n        \"std\": 5.013653594540304,\n        \"min\": 36.0,\n        \"max\": 67.0,\n        \"num_unique_values\": 32,\n        \"samples\": [\n          40.0,\n          58.0,\n          61.0\n        ],\n        \"semantic_type\": \"\",\n        \"description\": \"\"\n      }\n    },\n    {\n      \"column\": \"AvgTemp\",\n      \"properties\": {\n        \"dtype\": \"number\",\n        \"std\": 4.143192330652471,\n        \"min\": 31.0,\n        \"max\": 57.0,\n        \"num_unique_values\": 26,\n        \"samples\": [\n          50.0,\n          33.0,\n          40.0\n        ],\n        \"semantic_type\": \"\",\n        \"description\": \"\"\n      }\n    },\n    {\n      \"column\": \"Sunrise\",\n      \"properties\": {\n        \"dtype\": \"number\",\n        \"std\": 40,\n        \"min\": 543,\n        \"max\": 700,\n        \"num_unique_values\": 78,\n        \"samples\": [\n          627,\n          657,\n          626\n        ],\n        \"semantic_type\": \"\",\n        \"description\": \"\"\n      }\n    },\n    {\n      \"column\": \"Sunset\",\n      \"properties\": {\n        \"dtype\": \"number\",\n        \"std\": 49,\n        \"min\": 1742,\n        \"max\": 1905,\n        \"num_unique_values\": 84,\n        \"samples\": [\n          1752,\n          1756,\n          1854\n        ],\n        \"semantic_type\": \"\",\n        \"description\": \"\"\n      }\n    }\n  ]\n}"
            }
          },
          "metadata": {},
          "execution_count": 3
        }
      ],
      "source": [
        "import pandas as pd\n",
        "df=pd.read_csv('/content/MaunaLoaDailyTemps.csv',index_col='DATE'   ,parse_dates=True)\n",
        "df=df.dropna()\n",
        "print('Shape of data',df.shape)\n",
        "df.head()\n",
        "df"
      ]
    },
    {
      "cell_type": "code",
      "source": [
        "df['AvgTemp'].plot(figsize=(12,5))"
      ],
      "metadata": {
        "colab": {
          "base_uri": "https://localhost:8080/",
          "height": 453
        },
        "id": "M5QS-NGCsjbP",
        "outputId": "afbb4b6a-b99b-4a56-968c-d0c1ea19bf34"
      },
      "execution_count": 4,
      "outputs": [
        {
          "output_type": "execute_result",
          "data": {
            "text/plain": [
              "<Axes: xlabel='DATE'>"
            ]
          },
          "metadata": {},
          "execution_count": 4
        },
        {
          "output_type": "display_data",
          "data": {
            "text/plain": [
              "<Figure size 1200x500 with 1 Axes>"
            ],
            "image/png": "[encoded data removed]"
          },
          "metadata": {}
        }
      ]
    },
    {
      "cell_type": "code",
      "source": [
        "from statsmodels.tsa.stattools import adfuller\n",
        "def adf_test(dataset):\n",
        "     dftest = adfuller(dataset, autolag = 'AIC')\n",
        "     print(\"1. ADF : \",dftest[0])\n",
        "     print(\"2. P-Value : \", dftest[1])\n",
        "     print(\"3. Num Of Lags : \", dftest[2])\n",
        "     print(\"4. Num Of Observations Used For ADF Regression:\",      dftest[3])\n",
        "     print(\"5. Critical Values :\")\n",
        "     for key, val in dftest[4].items():\n",
        "         print(\"\\t\",key, \": \", val)\n",
        "adf_test(df['AvgTemp'])"
      ],
      "metadata": {
        "colab": {
          "base_uri": "https://localhost:8080/"
        },
        "id": "aQUkH-xLsjdQ",
        "outputId": "41c2f57e-75a0-4759-c51f-92e129ec2eb4"
      },
      "execution_count": 8,
      "outputs": [
        {
          "output_type": "stream",
          "name": "stdout",
          "text": [
            "1. ADF :  -6.554680125068777\n",
            "2. P-Value :  8.675937480199653e-09\n",
            "3. Num Of Lags :  12\n",
            "4. Num Of Observations Used For ADF Regression: 1808\n",
            "5. Critical Values :\n",
            "\t 1% :  -3.433972018026501\n",
            "\t 5% :  -2.8631399192826676\n",
            "\t 10% :  -2.5676217442756872\n"
          ]
        }
      ]
    },
    {
      "cell_type": "code",
      "source": [
        "!pip install pmdarima"
      ],
      "metadata": {
        "colab": {
          "base_uri": "https://localhost:8080/"
        },
        "id": "c9dsoqMFuHmc",
        "outputId": "eaf1f0e6-fe41-4b97-e4e6-224aef13c3a3"
      },
      "execution_count": 10,
      "outputs": [
        {
          "output_type": "stream",
          "name": "stdout",
          "text": [
            "Collecting pmdarima\n",
            "  Downloading pmdarima-2.0.4-cp310-cp310-manylinux_2_17_x86_64.manylinux2014_x86_64.manylinux_2_28_x86_64.whl (2.1 MB)\n",
            "\u001b[2K     \u001b[90m━━━━━━━━━━━━━━━━━━━━━━━━━━━━━━━━━━━━━━━━\u001b[0m \u001b[32m2.1/2.1 MB\u001b[0m \u001b[31m14.0 MB/s\u001b[0m eta \u001b[36m0:00:00\u001b[0m\n",
            "\u001b[?25hRequirement already satisfied: joblib>=0.11 in /usr/local/lib/python3.10/dist-packages (from pmdarima) (1.4.2)\n",
            "Requirement already satisfied: Cython!=0.29.18,!=0.29.31,>=0.29 in /usr/local/lib/python3.10/dist-packages (from pmdarima) (3.0.10)\n",
            "Requirement already satisfied: numpy>=1.21.2 in /usr/local/lib/python3.10/dist-packages (from pmdarima) (1.25.2)\n",
            "Requirement already satisfied: pandas>=0.19 in /usr/local/lib/python3.10/dist-packages (from pmdarima) (2.0.3)\n",
            "Requirement already satisfied: scikit-learn>=0.22 in /usr/local/lib/python3.10/dist-packages (from pmdarima) (1.2.2)\n",
            "Requirement already satisfied: scipy>=1.3.2 in /usr/local/lib/python3.10/dist-packages (from pmdarima) (1.11.4)\n",
            "Requirement already satisfied: statsmodels>=0.13.2 in /usr/local/lib/python3.10/dist-packages (from pmdarima) (0.14.2)\n",
            "Requirement already satisfied: urllib3 in /usr/local/lib/python3.10/dist-packages (from pmdarima) (2.0.7)\n",
            "Requirement already satisfied: setuptools!=50.0.0,>=38.6.0 in /usr/local/lib/python3.10/dist-packages (from pmdarima) (67.7.2)\n",
            "Requirement already satisfied: packaging>=17.1 in /usr/local/lib/python3.10/dist-packages (from pmdarima) (24.1)\n",
            "Requirement already satisfied: python-dateutil>=2.8.2 in /usr/local/lib/python3.10/dist-packages (from pandas>=0.19->pmdarima) (2.8.2)\n",
            "Requirement already satisfied: pytz>=2020.1 in /usr/local/lib/python3.10/dist-packages (from pandas>=0.19->pmdarima) (2023.4)\n",
            "Requirement already satisfied: tzdata>=2022.1 in /usr/local/lib/python3.10/dist-packages (from pandas>=0.19->pmdarima) (2024.1)\n",
            "Requirement already satisfied: threadpoolctl>=2.0.0 in /usr/local/lib/python3.10/dist-packages (from scikit-learn>=0.22->pmdarima) (3.5.0)\n",
            "Requirement already satisfied: patsy>=0.5.6 in /usr/local/lib/python3.10/dist-packages (from statsmodels>=0.13.2->pmdarima) (0.5.6)\n",
            "Requirement already satisfied: six in /usr/local/lib/python3.10/dist-packages (from patsy>=0.5.6->statsmodels>=0.13.2->pmdarima) (1.16.0)\n",
            "Installing collected packages: pmdarima\n",
            "Successfully installed pmdarima-2.0.4\n"
          ]
        }
      ]
    },
    {
      "cell_type": "code",
      "source": [
        "from pmdarima import auto_arima\n",
        "stepwise_fit = auto_arima(df['AvgTemp'], trace=True,\n",
        "suppress_warnings=True)"
      ],
      "metadata": {
        "colab": {
          "base_uri": "https://localhost:8080/"
        },
        "id": "8_empuaTsjfV",
        "outputId": "6d18a1fc-da5c-49b9-9a65-156389929985"
      },
      "execution_count": 11,
      "outputs": [
        {
          "output_type": "stream",
          "name": "stdout",
          "text": [
            "Performing stepwise search to minimize aic\n",
            " ARIMA(2,0,2)(0,0,0)[0] intercept   : AIC=8344.735, Time=3.86 sec\n",
            " ARIMA(0,0,0)(0,0,0)[0] intercept   : AIC=10347.755, Time=0.12 sec\n",
            " ARIMA(1,0,0)(0,0,0)[0] intercept   : AIC=8365.701, Time=0.33 sec\n",
            " ARIMA(0,0,1)(0,0,0)[0] intercept   : AIC=9136.225, Time=0.78 sec\n",
            " ARIMA(0,0,0)(0,0,0)[0]             : AIC=19192.139, Time=0.07 sec\n",
            " ARIMA(1,0,2)(0,0,0)[0] intercept   : AIC=8355.947, Time=3.22 sec\n",
            " ARIMA(2,0,1)(0,0,0)[0] intercept   : AIC=8356.308, Time=2.92 sec\n",
            " ARIMA(3,0,2)(0,0,0)[0] intercept   : AIC=8347.311, Time=4.01 sec\n",
            " ARIMA(2,0,3)(0,0,0)[0] intercept   : AIC=8318.337, Time=5.73 sec\n",
            " ARIMA(1,0,3)(0,0,0)[0] intercept   : AIC=8330.192, Time=3.80 sec\n",
            " ARIMA(3,0,3)(0,0,0)[0] intercept   : AIC=8310.577, Time=4.77 sec\n",
            " ARIMA(4,0,3)(0,0,0)[0] intercept   : AIC=8332.293, Time=6.45 sec\n",
            " ARIMA(3,0,4)(0,0,0)[0] intercept   : AIC=8317.620, Time=5.52 sec\n",
            " ARIMA(2,0,4)(0,0,0)[0] intercept   : AIC=8306.228, Time=6.94 sec\n",
            " ARIMA(1,0,4)(0,0,0)[0] intercept   : AIC=8297.028, Time=4.50 sec\n",
            " ARIMA(0,0,4)(0,0,0)[0] intercept   : AIC=8455.435, Time=1.33 sec\n",
            " ARIMA(1,0,5)(0,0,0)[0] intercept   : AIC=8295.034, Time=7.56 sec\n",
            " ARIMA(0,0,5)(0,0,0)[0] intercept   : AIC=8419.091, Time=1.65 sec\n",
            " ARIMA(2,0,5)(0,0,0)[0] intercept   : AIC=8302.544, Time=8.19 sec\n",
            " ARIMA(1,0,5)(0,0,0)[0]             : AIC=8304.533, Time=1.14 sec\n",
            "\n",
            "Best model:  ARIMA(1,0,5)(0,0,0)[0] intercept\n",
            "Total fit time: 72.939 seconds\n"
          ]
        }
      ]
    },
    {
      "cell_type": "code",
      "source": [
        "print(df.shape)\n",
        "train=df.iloc[:-30]\n",
        "test=df.iloc[-30:]\n",
        "print(train.shape,test.shape)"
      ],
      "metadata": {
        "colab": {
          "base_uri": "https://localhost:8080/"
        },
        "id": "usRW9t4Isjg6",
        "outputId": "64d3fae1-8a6b-477d-d88a-d2fb54b561af"
      },
      "execution_count": 12,
      "outputs": [
        {
          "output_type": "stream",
          "name": "stdout",
          "text": [
            "(1821, 5)\n",
            "(1791, 5) (30, 5)\n"
          ]
        }
      ]
    },
    {
      "cell_type": "code",
      "source": [
        "from statsmodels.tsa.arima.model import ARIMA\n",
        "model=ARIMA(train['AvgTemp'],order=(1,0,5))\n",
        "model=model.fit()\n",
        "model.summary()"
      ],
      "metadata": {
        "colab": {
          "base_uri": "https://localhost:8080/",
          "height": 661
        },
        "id": "iuYcTso5sji7",
        "outputId": "0d2d0283-9d57-4059-dd2a-1b9fe4aabf96"
      },
      "execution_count": 14,
      "outputs": [
        {
          "output_type": "stream",
          "name": "stderr",
          "text": [
            "/usr/local/lib/python3.10/dist-packages/statsmodels/tsa/base/tsa_model.py:473: ValueWarning: A date index has been provided, but it has no associated frequency information and so will be ignored when e.g. forecasting.\n",
            "  self._init_dates(dates, freq)\n",
            "/usr/local/lib/python3.10/dist-packages/statsmodels/tsa/base/tsa_model.py:473: ValueWarning: A date index has been provided, but it has no associated frequency information and so will be ignored when e.g. forecasting.\n",
            "  self._init_dates(dates, freq)\n",
            "/usr/local/lib/python3.10/dist-packages/statsmodels/tsa/base/tsa_model.py:473: ValueWarning: A date index has been provided, but it has no associated frequency information and so will be ignored when e.g. forecasting.\n",
            "  self._init_dates(dates, freq)\n"
          ]
        },
        {
          "output_type": "execute_result",
          "data": {
            "text/plain": [
              "<class 'statsmodels.iolib.summary.Summary'>\n",
              "\"\"\"\n",
              "                               SARIMAX Results                                \n",
              "==============================================================================\n",
              "Dep. Variable:                AvgTemp   No. Observations:                 1791\n",
              "Model:                 ARIMA(1, 0, 5)   Log Likelihood               -4070.198\n",
              "Date:                Tue, 23 Jul 2024   AIC                           8156.395\n",
              "Time:                        17:55:08   BIC                           8200.320\n",
              "Sample:                             0   HQIC                          8172.614\n",
              "                               - 1791                                         \n",
              "Covariance Type:                  opg                                         \n",
              "==============================================================================\n",
              "                 coef    std err          z      P>|z|      [0.025      0.975]\n",
              "------------------------------------------------------------------------------\n",
              "const         46.5856      0.758     61.454      0.000      45.100      48.071\n",
              "ar.L1          0.9856      0.005    188.230      0.000       0.975       0.996\n",
              "ma.L1         -0.1412      0.023     -6.124      0.000      -0.186      -0.096\n",
              "ma.L2         -0.2268      0.024     -9.635      0.000      -0.273      -0.181\n",
              "ma.L3         -0.2168      0.023     -9.251      0.000      -0.263      -0.171\n",
              "ma.L4         -0.1479      0.023     -6.491      0.000      -0.193      -0.103\n",
              "ma.L5         -0.0595      0.024     -2.438      0.015      -0.107      -0.012\n",
              "sigma2         5.5093      0.174     31.624      0.000       5.168       5.851\n",
              "===================================================================================\n",
              "Ljung-Box (L1) (Q):                   0.00   Jarque-Bera (JB):                14.88\n",
              "Prob(Q):                              0.97   Prob(JB):                         0.00\n",
              "Heteroskedasticity (H):               0.82   Skew:                            -0.15\n",
              "Prob(H) (two-sided):                  0.01   Kurtosis:                         3.33\n",
              "===================================================================================\n",
              "\n",
              "Warnings:\n",
              "[1] Covariance matrix calculated using the outer product of gradients (complex-step).\n",
              "\"\"\""
            ],
            "text/html": [
              "<table class=\"simpletable\">\n",
              "<caption>SARIMAX Results</caption>\n",
              "<tr>\n",
              "  <th>Dep. Variable:</th>        <td>AvgTemp</td>     <th>  No. Observations:  </th>   <td>1791</td>   \n",
              "</tr>\n",
              "<tr>\n",
              "  <th>Model:</th>            <td>ARIMA(1, 0, 5)</td>  <th>  Log Likelihood     </th> <td>-4070.198</td>\n",
              "</tr>\n",
              "<tr>\n",
              "  <th>Date:</th>            <td>Tue, 23 Jul 2024</td> <th>  AIC                </th> <td>8156.395</td> \n",
              "</tr>\n",
              "<tr>\n",
              "  <th>Time:</th>                <td>17:55:08</td>     <th>  BIC                </th> <td>8200.320</td> \n",
              "</tr>\n",
              "<tr>\n",
              "  <th>Sample:</th>                  <td>0</td>        <th>  HQIC               </th> <td>8172.614</td> \n",
              "</tr>\n",
              "<tr>\n",
              "  <th></th>                      <td> - 1791</td>     <th>                     </th>     <td> </td>    \n",
              "</tr>\n",
              "<tr>\n",
              "  <th>Covariance Type:</th>        <td>opg</td>       <th>                     </th>     <td> </td>    \n",
              "</tr>\n",
              "</table>\n",
              "<table class=\"simpletable\">\n",
              "<tr>\n",
              "     <td></td>       <th>coef</th>     <th>std err</th>      <th>z</th>      <th>P>|z|</th>  <th>[0.025</th>    <th>0.975]</th>  \n",
              "</tr>\n",
              "<tr>\n",
              "  <th>const</th>  <td>   46.5856</td> <td>    0.758</td> <td>   61.454</td> <td> 0.000</td> <td>   45.100</td> <td>   48.071</td>\n",
              "</tr>\n",
              "<tr>\n",
              "  <th>ar.L1</th>  <td>    0.9856</td> <td>    0.005</td> <td>  188.230</td> <td> 0.000</td> <td>    0.975</td> <td>    0.996</td>\n",
              "</tr>\n",
              "<tr>\n",
              "  <th>ma.L1</th>  <td>   -0.1412</td> <td>    0.023</td> <td>   -6.124</td> <td> 0.000</td> <td>   -0.186</td> <td>   -0.096</td>\n",
              "</tr>\n",
              "<tr>\n",
              "  <th>ma.L2</th>  <td>   -0.2268</td> <td>    0.024</td> <td>   -9.635</td> <td> 0.000</td> <td>   -0.273</td> <td>   -0.181</td>\n",
              "</tr>\n",
              "<tr>\n",
              "  <th>ma.L3</th>  <td>   -0.2168</td> <td>    0.023</td> <td>   -9.251</td> <td> 0.000</td> <td>   -0.263</td> <td>   -0.171</td>\n",
              "</tr>\n",
              "<tr>\n",
              "  <th>ma.L4</th>  <td>   -0.1479</td> <td>    0.023</td> <td>   -6.491</td> <td> 0.000</td> <td>   -0.193</td> <td>   -0.103</td>\n",
              "</tr>\n",
              "<tr>\n",
              "  <th>ma.L5</th>  <td>   -0.0595</td> <td>    0.024</td> <td>   -2.438</td> <td> 0.015</td> <td>   -0.107</td> <td>   -0.012</td>\n",
              "</tr>\n",
              "<tr>\n",
              "  <th>sigma2</th> <td>    5.5093</td> <td>    0.174</td> <td>   31.624</td> <td> 0.000</td> <td>    5.168</td> <td>    5.851</td>\n",
              "</tr>\n",
              "</table>\n",
              "<table class=\"simpletable\">\n",
              "<tr>\n",
              "  <th>Ljung-Box (L1) (Q):</th>     <td>0.00</td> <th>  Jarque-Bera (JB):  </th> <td>14.88</td>\n",
              "</tr>\n",
              "<tr>\n",
              "  <th>Prob(Q):</th>                <td>0.97</td> <th>  Prob(JB):          </th> <td>0.00</td> \n",
              "</tr>\n",
              "<tr>\n",
              "  <th>Heteroskedasticity (H):</th> <td>0.82</td> <th>  Skew:              </th> <td>-0.15</td>\n",
              "</tr>\n",
              "<tr>\n",
              "  <th>Prob(H) (two-sided):</th>    <td>0.01</td> <th>  Kurtosis:          </th> <td>3.33</td> \n",
              "</tr>\n",
              "</table><br/><br/>Warnings:<br/>[1] Covariance matrix calculated using the outer product of gradients (complex-step)."
            ],
            "text/latex": "\\begin{center}\n\\begin{tabular}{lclc}\n\\toprule\n\\textbf{Dep. Variable:}          &     AvgTemp      & \\textbf{  No. Observations:  } &    1791     \\\\\n\\textbf{Model:}                  &  ARIMA(1, 0, 5)  & \\textbf{  Log Likelihood     } & -4070.198   \\\\\n\\textbf{Date:}                   & Tue, 23 Jul 2024 & \\textbf{  AIC                } &  8156.395   \\\\\n\\textbf{Time:}                   &     17:55:08     & \\textbf{  BIC                } &  8200.320   \\\\\n\\textbf{Sample:}                 &        0         & \\textbf{  HQIC               } &  8172.614   \\\\\n\\textbf{}                        &      - 1791      & \\textbf{                     } &             \\\\\n\\textbf{Covariance Type:}        &       opg        & \\textbf{                     } &             \\\\\n\\bottomrule\n\\end{tabular}\n\\begin{tabular}{lcccccc}\n                & \\textbf{coef} & \\textbf{std err} & \\textbf{z} & \\textbf{P$> |$z$|$} & \\textbf{[0.025} & \\textbf{0.975]}  \\\\\n\\midrule\n\\textbf{const}  &      46.5856  &        0.758     &    61.454  &         0.000        &       45.100    &       48.071     \\\\\n\\textbf{ar.L1}  &       0.9856  &        0.005     &   188.230  &         0.000        &        0.975    &        0.996     \\\\\n\\textbf{ma.L1}  &      -0.1412  &        0.023     &    -6.124  &         0.000        &       -0.186    &       -0.096     \\\\\n\\textbf{ma.L2}  &      -0.2268  &        0.024     &    -9.635  &         0.000        &       -0.273    &       -0.181     \\\\\n\\textbf{ma.L3}  &      -0.2168  &        0.023     &    -9.251  &         0.000        &       -0.263    &       -0.171     \\\\\n\\textbf{ma.L4}  &      -0.1479  &        0.023     &    -6.491  &         0.000        &       -0.193    &       -0.103     \\\\\n\\textbf{ma.L5}  &      -0.0595  &        0.024     &    -2.438  &         0.015        &       -0.107    &       -0.012     \\\\\n\\textbf{sigma2} &       5.5093  &        0.174     &    31.624  &         0.000        &        5.168    &        5.851     \\\\\n\\bottomrule\n\\end{tabular}\n\\begin{tabular}{lclc}\n\\textbf{Ljung-Box (L1) (Q):}     & 0.00 & \\textbf{  Jarque-Bera (JB):  } & 14.88  \\\\\n\\textbf{Prob(Q):}                & 0.97 & \\textbf{  Prob(JB):          } &  0.00  \\\\\n\\textbf{Heteroskedasticity (H):} & 0.82 & \\textbf{  Skew:              } & -0.15  \\\\\n\\textbf{Prob(H) (two-sided):}    & 0.01 & \\textbf{  Kurtosis:          } &  3.33  \\\\\n\\bottomrule\n\\end{tabular}\n%\\caption{SARIMAX Results}\n\\end{center}\n\nWarnings: \\newline\n [1] Covariance matrix calculated using the outer product of gradients (complex-step)."
          },
          "metadata": {},
          "execution_count": 14
        }
      ]
    },
    {
      "cell_type": "code",
      "source": [
        "start=len(train)\n",
        "end=len(train)+len(test)-1\n",
        "pred=model.predict(start=start,end=end,typ='levels').rename('ARIMA Predictions')\n",
        "pred.plot(legend=True)\n",
        "test['AvgTemp'].plot(legend=True)"
      ],
      "metadata": {
        "colab": {
          "base_uri": "https://localhost:8080/",
          "height": 564
        },
        "id": "UCaWWjZBsjk5",
        "outputId": "7e718b8c-d78f-49a0-8fd5-4d9408ecef74"
      },
      "execution_count": 15,
      "outputs": [
        {
          "output_type": "stream",
          "name": "stderr",
          "text": [
            "/usr/local/lib/python3.10/dist-packages/statsmodels/tsa/base/tsa_model.py:836: ValueWarning: No supported index is available. Prediction results will be given with an integer index beginning at `start`.\n",
            "  return get_prediction_index(\n",
            "/usr/local/lib/python3.10/dist-packages/statsmodels/tsa/base/tsa_model.py:836: FutureWarning: No supported index is available. In the next version, calling this method in a model without a supported index will result in an exception.\n",
            "  return get_prediction_index(\n",
            "/usr/local/lib/python3.10/dist-packages/statsmodels/tsa/statespace/representation.py:374: FutureWarning: Unknown keyword arguments: dict_keys(['typ']).Passing unknown keyword arguments will raise a TypeError beginning in version 0.15.\n",
            "  warnings.warn(msg, FutureWarning)\n"
          ]
        },
        {
          "output_type": "execute_result",
          "data": {
            "text/plain": [
              "<Axes: xlabel='DATE'>"
            ]
          },
          "metadata": {},
          "execution_count": 15
        },
        {
          "output_type": "display_data",
          "data": {
            "text/plain": [
              "<Figure size 640x480 with 1 Axes>"
            ],
            "image/png": "[encoded data removed]"
          },
          "metadata": {}
        }
      ]
    },
    {
      "cell_type": "code",
      "source": [
        "from sklearn.metrics import mean_squared_error\n",
        "from math import sqrt\n",
        "test['AvgTemp'].mean()\n",
        "rmse=sqrt(mean_squared_error(pred,test['AvgTemp']))\n",
        "print(rmse)"
      ],
      "metadata": {
        "colab": {
          "base_uri": "https://localhost:8080/"
        },
        "id": "YvCIvMJnsjmy",
        "outputId": "90971c5e-d892-4a18-dbc5-8fe154edee6f"
      },
      "execution_count": 16,
      "outputs": [
        {
          "output_type": "stream",
          "name": "stdout",
          "text": [
            "3.000463825206671\n"
          ]
        }
      ]
    },
    {
      "cell_type": "code",
      "source": [],
      "metadata": {
        "id": "KqwhmxIxsjon"
      },
      "execution_count": null,
      "outputs": []
    },
    {
      "cell_type": "code",
      "source": [],
      "metadata": {
        "id": "ij6a3Zugsjqy"
      },
      "execution_count": null,
      "outputs": []
    },
    {
      "cell_type": "code",
      "source": [],
      "metadata": {
        "id": "7mxRZcMLsjtl"
      },
      "execution_count": null,
      "outputs": []
    }
  ]
}